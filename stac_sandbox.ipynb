{
 "cells": [
  {
   "cell_type": "code",
   "execution_count": 1,
   "metadata": {},
   "outputs": [],
   "source": [
    "%matplotlib inline\n",
    "from intake_stac import StacCatalog, StacItem\n"
   ]
  },
  {
   "cell_type": "code",
   "execution_count": 13,
   "metadata": {},
   "outputs": [],
   "source": [
    "#edited line 46 of ~/miniconda3/lib/python3.7/site-packages/satstac/thing.py to \n",
    "#allow for non-https url\n",
    "cat  = StacCatalog('http://dev-owi.usgs.gov/stac-test/catalog.json')\n",
    "#local\n",
    "#cat = StacCatalog('catalog.json')\n"
   ]
  },
  {
   "cell_type": "code",
   "execution_count": 3,
   "metadata": {},
   "outputs": [
    {
     "data": {
      "text/plain": [
       "['test_netcdf']"
      ]
     },
     "execution_count": 3,
     "metadata": {},
     "output_type": "execute_result"
    }
   ],
   "source": [
    "list(cat)"
   ]
  },
  {
   "cell_type": "code",
   "execution_count": 4,
   "metadata": {},
   "outputs": [
    {
     "data": {
      "text/plain": [
       "['test_netcdf']"
      ]
     },
     "execution_count": 4,
     "metadata": {},
     "output_type": "execute_result"
    }
   ],
   "source": [
    "list(cat['test_netcdf'])"
   ]
  },
  {
   "cell_type": "code",
   "execution_count": 5,
   "metadata": {},
   "outputs": [
    {
     "data": {
      "text/plain": [
       "{'datetime': datetime.datetime(2016, 5, 3, 13, 21, 30, 40000, tzinfo=tzutc()),\n",
       " 'bbox': [-122.59750209, 37.48803556, -122.2880486, 37.613537207],\n",
       " 'geometry': {'type': 'Polygon',\n",
       "  'coordinates': [[[-122.308150179, 37.488035566],\n",
       "    [-122.597502109, 37.538869539],\n",
       "    [-122.576687533, 37.613537207],\n",
       "    [-122.2880486, 37.562818007],\n",
       "    [-122.308150179, 37.488035566]]]},\n",
       " 'date': datetime.date(2016, 5, 3),\n",
       " 'catalog_dir': ''}"
      ]
     },
     "execution_count": 5,
     "metadata": {},
     "output_type": "execute_result"
    }
   ],
   "source": [
    "cat['test_netcdf'].metadata"
   ]
  },
  {
   "cell_type": "code",
   "execution_count": 6,
   "metadata": {},
   "outputs": [
    {
     "data": {
      "text/plain": [
       "dict_items([('test_netcdf', name: test_netcdf\n",
       "container: catalog\n",
       "plugin: ['stac-item']\n",
       "description: \n",
       "direct_access: True\n",
       "user_parameters: []\n",
       "metadata: \n",
       "args: \n",
       "  stac_obj: test_netcdf)])"
      ]
     },
     "execution_count": 6,
     "metadata": {},
     "output_type": "execute_result"
    }
   ],
   "source": [
    "cat.items()"
   ]
  },
  {
   "cell_type": "code",
   "execution_count": 8,
   "metadata": {},
   "outputs": [],
   "source": [
    "item = cat['test_netcdf']['test_netcdf']"
   ]
  },
  {
   "cell_type": "code",
   "execution_count": 9,
   "metadata": {
    "scrolled": true
   },
   "outputs": [],
   "source": [
    "dask_netcdf = item.to_dask()"
   ]
  },
  {
   "cell_type": "code",
   "execution_count": 10,
   "metadata": {},
   "outputs": [
    {
     "data": {
      "text/plain": [
       "<xarray.Dataset>\n",
       "Dimensions:  (lat: 21, lon: 21, time: 101)\n",
       "Dimensions without coordinates: lat, lon, time\n",
       "Data variables:\n",
       "    ppt      (time, lat, lon) float64 dask.array<shape=(101, 21, 21), chunksize=(101, 21, 21)>\n",
       "Attributes:\n",
       "    _NCProperties:             version=1|netcdflibversion=4.4.1|hdf5libversio...\n",
       "    Conventions:               CF-1.4\n",
       "    acknowledgment:            PRISM Climate Group, Oregon State University, ...\n",
       "    Metadata_Conventions:      Unidata Dataset Discovery v1.0\n",
       "    title:                     Parameter-elevation Regressions on Independent...\n",
       "    summary:                    This dataset was created using the PRISM (Par...\n",
       "    keywords:                  Atmospheric Temperature, Air Temperature Atmos...\n",
       "    keywords_vocabulary:       GCMD Science Keywords\n",
       "    id:                        prism/thredds/cida.usgs.gov\n",
       "    naming_authority:          cida.usgs.gov\n",
       "    cdm_data_type:             Grid\n",
       "    creator_name:              Christopher Daley\n",
       "    creator_email:             daley@nacse.org\n",
       "    publisher_name:            PRISM Climate Group\n",
       "    publisher_url:             http://prism.oregonstate.edu/\n",
       "    geospatial_lat_min:        24\n",
       "    geospatial_lat_max:        53\n",
       "    geospatial_lon_min:        -125\n",
       "    geospatial_lon_max:        -67\n",
       "    time_coverage_start:       1895-01-01T00:00\n",
       "    time_coverage_end:         2015-12-01T00:00\n",
       "    time_coverage_resolution:  Monthly\n",
       "    license:                   Freely Available: The PRISM Climate Group, Ore...\n",
       "    authors:                   PRISM Climate Group\n",
       "    institution:               Oregon State University"
      ]
     },
     "execution_count": 10,
     "metadata": {},
     "output_type": "execute_result"
    }
   ],
   "source": [
    "dask_netcdf"
   ]
  },
  {
   "cell_type": "code",
   "execution_count": 11,
   "metadata": {
    "scrolled": true
   },
   "outputs": [],
   "source": [
    "#get single timestep\n",
    "timestep = dask_netcdf[dict(time = 100)].to_array()\n",
    "#timestep.sel('tasmin_ACCESS1-3_r1i1p1_rcp45')"
   ]
  },
  {
   "cell_type": "code",
   "execution_count": 12,
   "metadata": {},
   "outputs": [
    {
     "data": {
      "text/plain": [
       "<matplotlib.collections.QuadMesh at 0x1193e5048>"
      ]
     },
     "execution_count": 12,
     "metadata": {},
     "output_type": "execute_result"
    },
    {
     "data": {
      "image/png": "[encoded data removed]",
      "text/plain": [
       "<Figure size 432x288 with 2 Axes>"
      ]
     },
     "metadata": {
      "needs_background": "light"
     },
     "output_type": "display_data"
    }
   ],
   "source": [
    "import matplotlib.pyplot as plt\n",
    "timestep.plot()"
   ]
  },
  {
   "cell_type": "code",
   "execution_count": null,
   "metadata": {},
   "outputs": [],
   "source": []
  },
  {
   "cell_type": "code",
   "execution_count": null,
   "metadata": {},
   "outputs": [],
   "source": []
  }
 ],
 "metadata": {
  "kernelspec": {
   "display_name": "Python 3",
   "language": "python",
   "name": "python3"
  },
  "language_info": {
   "codemirror_mode": {
    "name": "ipython",
    "version": 3
   },
   "file_extension": ".py",
   "mimetype": "text/x-python",
   "name": "python",
   "nbconvert_exporter": "python",
   "pygments_lexer": "ipython3",
   "version": "3.7.3"
  }
 },
 "nbformat": 4,
 "nbformat_minor": 2
}
